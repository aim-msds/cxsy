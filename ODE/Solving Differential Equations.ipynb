{
 "cells": [
  {
   "cell_type": "markdown",
   "id": "afb5bb9a",
   "metadata": {
    "toc": true
   },
   "source": [
    "<h1>Table of Contents<span class=\"tocSkip\"></span></h1>\n",
    "<div class=\"toc\"><ul class=\"toc-item\"><li><span><a href=\"#Solving-Ordinary-Differential-Equations\" data-toc-modified-id=\"Solving-Ordinary-Differential-Equations-1\"><span class=\"toc-item-num\">1&nbsp;&nbsp;</span>Solving Ordinary Differential Equations</a></span><ul class=\"toc-item\"><li><span><a href=\"#Forward-Euler-Method\" data-toc-modified-id=\"Forward-Euler-Method-1.1\"><span class=\"toc-item-num\">1.1&nbsp;&nbsp;</span>Forward Euler Method</a></span><ul class=\"toc-item\"><li><span><a href=\"#Creating-a-Simple-ODE-Solver\" data-toc-modified-id=\"Creating-a-Simple-ODE-Solver-1.1.1\"><span class=\"toc-item-num\">1.1.1&nbsp;&nbsp;</span>Creating a Simple ODE Solver</a></span><ul class=\"toc-item\"><li><span><a href=\"#Solving-Numerically\" data-toc-modified-id=\"Solving-Numerically-1.1.1.1\"><span class=\"toc-item-num\">1.1.1.1&nbsp;&nbsp;</span>Solving Numerically</a></span></li></ul></li><li><span><a href=\"#Extending-the-Solver-to-a-general-ODE\" data-toc-modified-id=\"Extending-the-Solver-to-a-general-ODE-1.1.2\"><span class=\"toc-item-num\">1.1.2&nbsp;&nbsp;</span>Extending the Solver to a general ODE</a></span></li><li><span><a href=\"#Class-Gaming-aka-ODE-solver-implemented-as-a-class\" data-toc-modified-id=\"Class-Gaming-aka-ODE-solver-implemented-as-a-class-1.1.3\"><span class=\"toc-item-num\">1.1.3&nbsp;&nbsp;</span>Class Gaming aka ODE solver implemented as a class</a></span></li></ul></li><li><span><a href=\"#Runge-Kutta-Method\" data-toc-modified-id=\"Runge-Kutta-Method-1.2\"><span class=\"toc-item-num\">1.2&nbsp;&nbsp;</span>Runge-Kutta Method</a></span></li></ul></li><li><span><a href=\"#Modeling-Infectious-Diseases-:-SIR-Model\" data-toc-modified-id=\"Modeling-Infectious-Diseases-:-SIR-Model-2\"><span class=\"toc-item-num\">2&nbsp;&nbsp;</span>Modeling Infectious Diseases : SIR Model</a></span><ul class=\"toc-item\"><li><span><a href=\"#The-RK4-Way\" data-toc-modified-id=\"The-RK4-Way-2.1\"><span class=\"toc-item-num\">2.1&nbsp;&nbsp;</span>The RK4 Way</a></span></li><li><span><a href=\"#Import-Some-Libraries\" data-toc-modified-id=\"Import-Some-Libraries-2.2\"><span class=\"toc-item-num\">2.2&nbsp;&nbsp;</span>Import Some Libraries</a></span></li></ul></li><li><span><a href=\"#References\" data-toc-modified-id=\"References-3\"><span class=\"toc-item-num\">3&nbsp;&nbsp;</span>References</a></span></li></ul></div>"
   ]
  },
  {
   "cell_type": "markdown",
   "id": "317b9463",
   "metadata": {},
   "source": [
    "# Solving Ordinary Differential Equations\n",
    "\n",
    "Ordinary differential equations (ODEs) are widely used in science and engineering, in particular for modeling dynamic processes. While simple ODEs can be solved with analytical methods, non-linear ODEs are generally not possible to solve in this way, and we need to apply numerical methods."
   ]
  },
  {
   "cell_type": "markdown",
   "id": "42b85d9e",
   "metadata": {},
   "source": [
    "## Forward Euler Method\n",
    "\n",
    "### Creating a Simple ODE Solver\n",
    "\n",
    "As an example, consider the very simple ODE\n",
    "\n",
    "$$\n",
    "u^{'} = u\n",
    "$$\n",
    "\n",
    "This equation has the general solution \n",
    "\n",
    "$$\n",
    "u = C e^{t}\n",
    "$$\n",
    "\n",
    "For any constant $C$, it has many solutions! \n",
    "\n",
    "Specifying an initial condition \n",
    "$$u(0)=u_0$$ \n",
    "\n",
    "gives \n",
    "\n",
    "$$C=u_{0}$$\n",
    "\n",
    "Hence, we get the unique solution\n",
    "\n",
    "$$\n",
    "u=u_0 e^t\n",
    "$$\n",
    "\n",
    "\n",
    "#### Solving Numerically\n",
    "\n",
    "When solving this equation numerically, we use the formula\n",
    "\n",
    "$$\n",
    "u_{n+1} = u_n + \\Delta tf(u_n, t_n)\n",
    "$$\n",
    "\n",
    "Hence\n",
    "\n",
    "$$\n",
    "u_1 = u_0 + \\Delta t u_0 \\\\\n",
    "u_2 = u_1 + \\Delta t u_1 \\\\\n",
    "u_3 = u_2 + \\Delta t u_2 \\\\\n",
    "u_4 = u_3 + ..\n",
    "$$"
   ]
  },
  {
   "cell_type": "code",
   "execution_count": 184,
   "id": "2ef074ea",
   "metadata": {
    "ExecuteTime": {
     "end_time": "2022-04-22T23:21:02.708927Z",
     "start_time": "2022-04-22T23:21:02.545415Z"
    }
   },
   "outputs": [
    {
     "data": {
      "image/png": "[encoded data removed]",
      "text/plain": [
       "<Figure size 432x288 with 1 Axes>"
      ]
     },
     "metadata": {
      "needs_background": "light"
     },
     "output_type": "display_data"
    }
   ],
   "source": [
    "import numpy as np\n",
    "import matplotlib.pyplot as plt\n",
    "\n",
    "# step size\n",
    "dt = 0.2\n",
    "\n",
    "# some initial condition\n",
    "U0 = 1\n",
    "\n",
    "# end of time\n",
    "T = 4\n",
    "\n",
    "# calculate steps to end of time\n",
    "# How many delta ts are there in T?\n",
    "N = int(T/dt)\n",
    "\n",
    "# empty containers \n",
    "t = np.zeros(N+1)\n",
    "u = np.zeros(N+1)\n",
    "\n",
    "# of course we start at time=0\n",
    "t[0] = 0\n",
    "\n",
    "# set initial value based from initial condition\n",
    "u[0] = U0\n",
    "\n",
    "\n",
    "for n in range(N):\n",
    "    t[n+1] = t[n] + dt\n",
    "    u[n+1] = u[n] + dt*u[n]\n",
    "  \n",
    "# plot stuff\n",
    "plt.plot(t,u)\n",
    "plt.xlabel('Time')\n",
    "plt.ylabel('Measurement')\n",
    "plt.show()"
   ]
  },
  {
   "cell_type": "markdown",
   "id": "ab71a9be",
   "metadata": {},
   "source": [
    "### Extending the Solver to a general ODE\n",
    "\n",
    "The purpose of the simple examplee previously is to give you a glimpse of how the Forward Euler method works. But we want to build a solver that actually solved general ODEs. In other words, it can be of the following form:\n",
    "\n",
    "$$\n",
    "u' = f(u,t)\n",
    "$$\n",
    "\n",
    "This requires a slight modification of the code which you'll see below."
   ]
  },
  {
   "cell_type": "code",
   "execution_count": 185,
   "id": "bd4c6f98",
   "metadata": {
    "ExecuteTime": {
     "end_time": "2022-04-22T23:21:03.174441Z",
     "start_time": "2022-04-22T23:21:03.166607Z"
    }
   },
   "outputs": [],
   "source": [
    "def ForwardEuler(f, U0, T, N):\n",
    "    \"\"\"\n",
    "    Solve u’=f(u,t), u(0)=U0, with n steps until t=T.\n",
    "    \"\"\"\n",
    "    \n",
    "    # some empty containers\n",
    "    t = np.zeros(N+1)\n",
    "    u = np.zeros(N+1) # u[n] is the solution at time t[n]\n",
    "    \n",
    "    # initial conditions\n",
    "    u[0] = U0\n",
    "    t[0] = 0\n",
    "    \n",
    "    # delta t is simply the total T divided by the number of steps\n",
    "    # step size\n",
    "    dt = T/N\n",
    "    \n",
    "    # for each step\n",
    "    for n in range(N):\n",
    "        # adjust time by adding delta\n",
    "        t[n+1] = t[n] + dt\n",
    "        \n",
    "        # populate n by new values c/o the forward euler method\n",
    "        # only this time, instead of u[n], we have a more general \n",
    "        # function called f(u[n], t[n])\n",
    "        u[n+1] = u[n] + dt*f(u[n], t[n])\n",
    "    return u, t"
   ]
  },
  {
   "cell_type": "code",
   "execution_count": 186,
   "id": "48ebae8b",
   "metadata": {
    "ExecuteTime": {
     "end_time": "2022-04-22T23:21:03.340008Z",
     "start_time": "2022-04-22T23:21:03.336916Z"
    }
   },
   "outputs": [],
   "source": [
    "def f(u, t):\n",
    "    \"\"\"\n",
    "    Returns a general function\n",
    "    \"\"\"\n",
    "    return u"
   ]
  },
  {
   "cell_type": "code",
   "execution_count": 187,
   "id": "8e679008",
   "metadata": {
    "ExecuteTime": {
     "end_time": "2022-04-22T23:21:04.101274Z",
     "start_time": "2022-04-22T23:21:03.956523Z"
    }
   },
   "outputs": [
    {
     "data": {
      "image/png": "[encoded data removed]",
      "text/plain": [
       "<Figure size 432x288 with 1 Axes>"
      ]
     },
     "metadata": {
      "needs_background": "light"
     },
     "output_type": "display_data"
    }
   ],
   "source": [
    "# some initial condition\n",
    "U0 = 1\n",
    "\n",
    "# total time\n",
    "T = 4\n",
    "\n",
    "# number of time steps\n",
    "# determines the step size\n",
    "N = 50\n",
    "\n",
    "# call the method where f corresponds to your function\n",
    "u, t = ForwardEuler(f, U0, T, N)\n",
    "\n",
    "# plot stuff\n",
    "plt.plot(t,u)\n",
    "plt.xlabel('Time')\n",
    "plt.ylabel('Measurement')\n",
    "plt.show()"
   ]
  },
  {
   "cell_type": "markdown",
   "id": "a5478d66",
   "metadata": {},
   "source": [
    "### Class Gaming aka ODE solver implemented as a class \n",
    "\n",
    "We can increase the flexibility of the ```ForwardEuler``` function by implementing it as sa class.\n",
    "\n",
    "How will this solver class be implemented?\n",
    "\n",
    "1. Constructor (```__init```) which takes ```f, T, N,``` and ```U0``` as arguments.\n",
    "2. Time step $\\Delta t$ and sequences $u_n, t_n$ must be initialized and stored as attributes. These tasks are super easy to handle in the constructor.\n",
    "3. The class needs a ```solve``` method that is very similar to the ```ForwardEuler``` function.\n",
    "\n",
    "\n",
    "In addition to these methods, it may be convenient to implement the formula for advancing the solution one step as a separate method advance. In this way it becomes very easy to implement new numerical methods, since we typically only need to change the advance method. "
   ]
  },
  {
   "cell_type": "code",
   "execution_count": 188,
   "id": "3e36267d",
   "metadata": {
    "ExecuteTime": {
     "end_time": "2022-04-22T23:21:04.944414Z",
     "start_time": "2022-04-22T23:21:04.934476Z"
    }
   },
   "outputs": [],
   "source": [
    "import numpy as np\n",
    "\n",
    "class ForwardEuler:\n",
    "    def __init__(self, f, U0, T, N):\n",
    "        self.f, self.U0, self.T, self.N = f, U0, T, N\n",
    "        self.dt = T/N\n",
    "        self.u = np.zeros(self.N + 1)\n",
    "        self.t = np.zeros(self.N + 1)\n",
    "        \n",
    "    def solve(self):\n",
    "        \"\"\"Compute solution for 0 <=t<=T.\"\"\"\n",
    "        self.u[0] = float(self.U0)\n",
    "        \n",
    "        for n in range(self.N):\n",
    "            self.n = n\n",
    "            self.t[n+1] = self.t[n] + self.dt\n",
    "            \n",
    "            # advance is to be able to modify the function as you please\n",
    "            self.u[n+1] = self.advance()\n",
    "        return self.u, self.t\n",
    "    \n",
    "    def advance(self):\n",
    "        \"\"\"\n",
    "        Advance the solution one time step.\n",
    "        \"\"\"\n",
    "        \n",
    "        # create local variables to get rid of self in the numerical formula\n",
    "        # only for ease of reading\n",
    "        \n",
    "        u, dt, f, n, t = self.u, self.dt, self.f, self.n, self.t\n",
    "        \n",
    "        unew = u[n] + dt * f(u[n], t[n])\n",
    "        return unew"
   ]
  },
  {
   "cell_type": "markdown",
   "id": "20572670",
   "metadata": {},
   "source": [
    "Let's also use a class to handle the right-hand side ```f(u,t)```. For instance, let's have the **logistic growth** (as opposed to the exponential growth in the previous example).\n",
    "\n",
    "$$\n",
    "u'(t) = \\alpha u(t)(1-\\frac{u(t)}{R})\n",
    "$$\n",
    "where \n",
    "$$\n",
    "u(0) = U_0 , t \\in [0,40]\n",
    "$$"
   ]
  },
  {
   "cell_type": "code",
   "execution_count": 189,
   "id": "a8bdebc5",
   "metadata": {
    "ExecuteTime": {
     "end_time": "2022-04-22T23:21:06.323989Z",
     "start_time": "2022-04-22T23:21:06.317556Z"
    }
   },
   "outputs": [],
   "source": [
    "class Logistic:\n",
    "    # constructor\n",
    "    def __init__(self, alpha, R, U0):\n",
    "        self.alpha, self.R, self.U0 = alpha, float(R), U0\n",
    "        \n",
    "    def __call__(self,  u, t): \n",
    "        # simply f(u, t)\n",
    "        return self.alpha * u * (1 - u/self.R)      "
   ]
  },
  {
   "cell_type": "markdown",
   "id": "f5951f44",
   "metadata": {},
   "source": [
    "Finally"
   ]
  },
  {
   "cell_type": "code",
   "execution_count": 190,
   "id": "8622e655",
   "metadata": {
    "ExecuteTime": {
     "end_time": "2022-04-22T23:21:08.014728Z",
     "start_time": "2022-04-22T23:21:07.859345Z"
    }
   },
   "outputs": [
    {
     "data": {
      "image/png": "[encoded data removed]",
      "text/plain": [
       "<Figure size 432x288 with 1 Axes>"
      ]
     },
     "metadata": {
      "needs_background": "light"
     },
     "output_type": "display_data"
    }
   ],
   "source": [
    "problem = Logistic(0.2, 1, 0.1)\n",
    "method = ForwardEuler(problem, problem.U0, 40, 401)\n",
    "\n",
    "u, t = method.solve()\n",
    "\n",
    "# plot stuff\n",
    "plt.title(\"Logistic Regression\")\n",
    "plt.xlabel('Time')\n",
    "plt.ylabel('Measurement')\n",
    "plt.plot(t,u)\n",
    "plt.show()"
   ]
  },
  {
   "cell_type": "markdown",
   "id": "057a4c78",
   "metadata": {},
   "source": [
    "<div class=\"alert alert-block alert-info\">\n",
    "<b>Do-It-Yourself Corner</b>\n",
    "    \n",
    "Try to create a class for the exponential function.\n",
    "</div>"
   ]
  },
  {
   "cell_type": "markdown",
   "id": "9eb03b9b",
   "metadata": {},
   "source": [
    "## Runge-Kutta Method\n",
    "\n",
    "The Forward Euler (FE) is not the most sophisticated ODE solver. Many alternative methods exist. One very popular class of ODE solvers is known as the Runge-Kutta methods. The simplest example of a Runge-Kutta (RK) method is in fact the FE method!\n",
    "\n",
    "$$\n",
    "u_{n+1} = u_{n} + \\Delta t f(u_n, t_n)\n",
    "$$\n",
    "\n",
    "This can be rewritten as follows:\n",
    "\n",
    "$$\n",
    "k_1 = f(u_n, t_n) \\\\\n",
    "u_{n+1} = u_{n} + \\Delta t k_1\n",
    "$$\n",
    "\n",
    "**Explicit Midpoint**\n",
    "\n",
    "Although there is not much difference between the two, this is the formulation of the Runge-Kutta methods. The intermediate value $k_1$ is often referred to as a *stage derivative* in the ODE literature.We can proceed with second order, as in:\n",
    "\n",
    "$$\n",
    "k_1 = f(u_n, t_n) \\\\\n",
    "k_2 = f(u_n + \\frac{\\Delta t}{2}k_1, t_n+\\frac{\\Delta t}{2}) \\\\\n",
    "u_{n+1} = u_{n} + \\Delta t k_2\n",
    "$$\n",
    "\n",
    "This method is known as the *explicit midpoint method* or the modified Euler method. \n",
    "\n",
    "The first step is identical to that of the FE method, but instead of using the stage derivative $k_1$ to advance the solution to the next step, we use  it to compute a new stage derivative $k_2$, which is an *approximation of the derivative of u at time $t(n) +∆t/2$.* Finally, we use this midpoint derivative to advance the the solution to $t(n+1)$\n",
    "\n",
    "**RK4**\n",
    "\n",
    "The most widely known member of the Runge–Kutta family is generally referred to as \"RK4\", the \"classic Runge–Kutta method\" or simply as \"the Runge–Kutta method\".\n",
    "\n",
    "$$\n",
    "k_1 = f(u_n, t_n) \\\\\n",
    "k_2 = f(u_n + \\frac{\\Delta t}{2}k_1, t_n+\\frac{\\Delta t}{2}) \\\\\n",
    "k_3 = f(u_n + \\frac{\\Delta t}{2}k_2, t_n+\\frac{\\Delta t}{2}) \\\\\n",
    "k_4 = f(u_n + \\frac{\\Delta t}{2}k_3, t_n+\\frac{\\Delta t}{2}) \\\\\n",
    "u_{n+1} = u_{n} + \\frac{\\Delta t}{6}(k_1 + 2k_2 + 2k_3 + k_4)\n",
    "$$\n",
    "\n",
    "*Optional*\n",
    "\n",
    "The accuracy of the method can be improved by adding more stages. A general RK method with s stages can be written as\n",
    "\n",
    "$$\n",
    "u_{n+1} = u_{n} + \\Delta t \\Sigma^s_{i=1} b_i k_i\n",
    "$$\n",
    "\n",
    "where\n",
    "\n",
    "$$\n",
    "k_1 = f(u_n, t_n) \\\\\n",
    "k_2 = f(u_n + \\Delta t(a_{21}k_1), t_n + c_2\\Delta t) \\\\\n",
    "k_3 = f(u_n + \\Delta t(a_{31}k_1 + a_{32}k_2), t_n + c_3\\Delta t) \\\\\n",
    ". \\\\\n",
    ". \\\\\n",
    ". \\\\\n",
    "k_s = f(u_n + \\Delta t(a_{s1}k_1 + a_{s2}k_2) + ... + a_{s, s-1}k_{s-1}, t_n + c_s\\Delta t)\n",
    "$$\n",
    "\n",
    "where $s$ is the number of stages, coefficients $a_{i,j} (1 \\le j < i \\le s), b_i (i=1,2,...,s)$ and $c_i (i=2,3,...,s)$. The matrix $[a_{ij}]$ is called the Runge–Kutta matrix, while the $b_i$ and $c_i$ are known as the weights and the nodes. These data are usually arranged in a mnemonic device, known as a Butcher tableau (after John C. Butcher)."
   ]
  },
  {
   "cell_type": "code",
   "execution_count": 142,
   "id": "394eafe4",
   "metadata": {
    "ExecuteTime": {
     "end_time": "2022-04-22T22:13:55.116547Z",
     "start_time": "2022-04-22T22:13:55.106057Z"
    }
   },
   "outputs": [],
   "source": [
    "import numpy as np\n",
    "\n",
    "class ODESolver:\n",
    "    def __init__(self, f):\n",
    "        self.f = f\n",
    "        \n",
    "    def advance(self):\n",
    "        \"\"\"Advance solution one time step.\"\"\"\n",
    "        raise NotImplementedError # implement in subclass\n",
    "        \n",
    "    def set_initial_condition(self, U0):\n",
    "        self.U0 = float(U0)\n",
    "    \n",
    "    def solve(self, time_points):\n",
    "        self.t = np.asarray(time_points)\n",
    "        N = len(self.t)\n",
    "        self.u = np.zeros(N)\n",
    "        \n",
    "        # Assume that self.t[0] corresponds to self.U0\n",
    "        self.u[0] = self.U0\n",
    "        \n",
    "        # Time loop\n",
    "        for n in range(N-1):\n",
    "            self.n = n\n",
    "            self.u[n+1] = self.advance()\n",
    "        return self.u, self.t"
   ]
  },
  {
   "cell_type": "code",
   "execution_count": 156,
   "id": "beb8515a",
   "metadata": {
    "ExecuteTime": {
     "end_time": "2022-04-22T22:17:47.940807Z",
     "start_time": "2022-04-22T22:17:47.927533Z"
    }
   },
   "outputs": [],
   "source": [
    "class ForwardEuler(ODESolver):\n",
    "    def advance(self):\n",
    "        u, f, n, t = self.u, self.f, self.n, self.t\n",
    "        dt = t[n+1] - t[n]\n",
    "        unew = u[n] + dt*f(u[n], t[n])\n",
    "        return unew\n",
    "        \n",
    "        \n",
    "class ExplicitMidpoint(ODESolver):\n",
    "    def advance(self):\n",
    "        u, f, n, t = self.u, self.f, self.n, self.t\n",
    "        dt = t[n+1] - t[n]\n",
    "        dt2 = dt/2.0\n",
    "        k1 = f(u[n], t)\n",
    "        k2 = f(u[n] + dt2*k1, t[n] + dt2)\n",
    "        unew = u[n] + dt*k2\n",
    "        return unew\n",
    "\n",
    "class RungeKutta4(ODESolver):\n",
    "    def advance(self):\n",
    "        u, f, n, t = self.u, self.f, self.n, self.t\n",
    "        dt = t[n+1] - t[n]\n",
    "        dt2 = dt/2.0\n",
    "        k1 = f(u[n], t)\n",
    "        k2 = f(u[n] + dt2*k1, t[n] + dt2)\n",
    "        k3 = f(u[n] + dt2*k2, t[n] + dt2)\n",
    "        k4 = f(u[n] + dt*k3, t[n] + dt)\n",
    "        unew = u[n] + (dt/6.0)*(k1 + 2*k2 + 2*k3 + k4)\n",
    "        return unew"
   ]
  },
  {
   "cell_type": "code",
   "execution_count": 157,
   "id": "151222a0",
   "metadata": {
    "ExecuteTime": {
     "end_time": "2022-04-22T22:17:48.596980Z",
     "start_time": "2022-04-22T22:17:48.406737Z"
    }
   },
   "outputs": [
    {
     "data": {
      "image/png": "[encoded data removed]",
      "text/plain": [
       "<Figure size 432x288 with 1 Axes>"
      ]
     },
     "metadata": {
      "needs_background": "light"
     },
     "output_type": "display_data"
    }
   ],
   "source": [
    "import numpy as np\n",
    "import matplotlib.pyplot as plt\n",
    "\n",
    "def f(u, t):\n",
    "    return u\n",
    "\n",
    "time_points = np.linspace(0, 3, 11)\n",
    "\n",
    "fe = ForwardEuler(f)\n",
    "fe.set_initial_condition(U0=1)\n",
    "u1, t1 = fe.solve(time_points)\n",
    "plt.plot(t1, u1, label=\"Forward Euler\")\n",
    "\n",
    "em = ExplicitMidpoint(f)\n",
    "em.set_initial_condition(U0=1)\n",
    "u2, t2 = em.solve(time_points)\n",
    "plt.plot(t2, u2, label=\"Explicit Midpoint\")\n",
    "\n",
    "rk4 = RungeKutta4(f)\n",
    "rk4.set_initial_condition(U0=1)\n",
    "u3, t3 = rk4.solve(time_points)\n",
    "plt.plot(t3, u3, label=\"RungeKutta 4\")\n",
    "\n",
    "#plot the exact solution in the same plot\n",
    "time_exact = np.linspace(0,3,301) #more points to improve the plot\n",
    "plt.plot(time_exact,np.exp(time_exact),label=\"Exact\")\n",
    "plt.legend()\n",
    "plt.show()"
   ]
  },
  {
   "cell_type": "markdown",
   "id": "03fa3753",
   "metadata": {},
   "source": [
    "# Modeling Infectious Diseases : SIR Model\n",
    "A simple mathematical description of the spread of a disease in a population is the so-called SIR model, which divides the (fixed) population of $N$ individuals into three \"compartments\" which may vary as a function of time, t:\n",
    "\n",
    "1. S(t) are those susceptible but not yet infected with the disease;\n",
    "2. I(t) is the number of infectious individuals;\n",
    "3. R(t) are those individuals who have recovered from the disease and now have immunity to it.\n",
    "\n",
    "The SIR model describes the change in the population of each of these compartments in terms of two parameters, $\\beta$ and $\\gamma$. \n",
    "\n",
    "$\\beta$ describes the effective contact rate of the disease: an infected individual comes into contact with $\\beta N$ other individuals per unit time (of which the fraction that are susceptible to contracting the disease is $\\frac{S}{N}$). \n",
    "\n",
    "$\\gamma$ is the mean recovery rate: that is, 1/γ is the mean period of time during which an infected individual can pass it on.\n",
    "\n",
    "The differential equations describing this model were first derived by Kermack and McKendrick [Proc. R. Soc. A, 115, 772 (1927)]:\n",
    "\n",
    "$$\n",
    "S'(t) = -\\beta \\frac{SI}{N} \\\\\n",
    "I'(t) = \\beta \\frac{SI}{N} - \\gamma I \\\\\n",
    "R'(t) = \\gamma I\n",
    "$$\n",
    "\n",
    "where $N$ is the total population and $N = S + I + R$. \n",
    "\n",
    "## The RK4 Way\n",
    "\n",
    "But first, how do we transition our ```ODESolver``` for system of ODEs?\n",
    "\n",
    "Given array ```t```\n",
    "\n",
    "```\n",
    "t = [0. 0.4 0.8 1.2 (...) ]\n",
    "```\n",
    "\n",
    "For scalar ODE, the array ```u``` may look as follows:\n",
    "\n",
    "```\n",
    "u = [ 1.0 1.4 1.96 2.744 (...)]\n",
    "u[0] = 1.0\n",
    "u[1] = 1.4\n",
    "(...)\n",
    "```\n",
    "\n",
    "In the case of a system of two ODEs, ```t``` is still a one-dimensional array, but the solution array ```u``` is now two-dimensional, with **one column for each solution component**. Indexing into it yields one-dimensional arrays of length two, which are the two solution components at each time step:\n",
    "```\n",
    "u = [[1.0 0.8][1.4 1.1] [1.9 2.7] (...)]\n",
    "u[0] = [1.0 0.8]\n",
    "u[1] = [1.4 1.1]\n",
    "(...)\n",
    "```\n",
    "\n",
    "\n",
    "1. Ensure that ```f(u,t)``` always returns an array.\n",
    "2. Inspect ```U0``` to see if it is a single number or a list/array/tuple and make the u either a one-dimensional or two-dimensional array"
   ]
  },
  {
   "cell_type": "code",
   "execution_count": 177,
   "id": "d663b95c",
   "metadata": {
    "ExecuteTime": {
     "end_time": "2022-04-22T23:19:52.380575Z",
     "start_time": "2022-04-22T23:19:52.370980Z"
    }
   },
   "outputs": [],
   "source": [
    "class ODESolver:\n",
    "    def __init__(self, f): \n",
    "        # Wrap user’s f in a new function that always\n",
    "        # converts list/tuple to array (or let array be array)\n",
    "        self.f = lambda u, t: np.asarray(f(u, t), float)\n",
    "        \n",
    "    def set_initial_condition(self, U0):\n",
    "        if isinstance(U0, (float,int)):    # scalar ODE\n",
    "            self.neq = 1                   # no of equations\n",
    "            self.U0 = float(U0)\n",
    "        else: # system of ODEs\n",
    "            U0 = np.asarray(U0)\n",
    "            self.neq = U0.size # no of equations\n",
    "            self.U0 = U0\n",
    "            \n",
    "    def solve(self, time_points):\n",
    "        self.t = np.asarray(time_points)\n",
    "        N = len(self.t)\n",
    "\n",
    "        if self.neq == 1: # scalar ODEs\n",
    "            self.u = np.zeros(N)\n",
    "        \n",
    "        else: # systems of ODEs\n",
    "            self.u = np.zeros((N,self.neq))\n",
    "            \n",
    "        # Assume that self.t[0] corresponds to self.U0\n",
    "        self.u[0] = self.U0\n",
    "        \n",
    "        # Time loop\n",
    "        for n in range(N-1):\n",
    "            self.n = n\n",
    "            self.u[n+1] = self.advance()\n",
    "        return self.u, self.t"
   ]
  },
  {
   "cell_type": "code",
   "execution_count": 178,
   "id": "109f988a",
   "metadata": {
    "ExecuteTime": {
     "end_time": "2022-04-22T23:19:52.766748Z",
     "start_time": "2022-04-22T23:19:52.757963Z"
    }
   },
   "outputs": [],
   "source": [
    "class RungeKutta4(ODESolver):\n",
    "    def advance(self):\n",
    "        u, f, n, t = self.u, self.f, self.n, self.t\n",
    "        dt = t[n+1] - t[n]\n",
    "        dt2 = dt/2.0\n",
    "        k1 = f(u[n], t)\n",
    "        k2 = f(u[n] + dt2*k1, t[n] + dt2)\n",
    "        k3 = f(u[n] + dt2*k2, t[n] + dt2)\n",
    "        k4 = f(u[n] + dt*k3, t[n] + dt)\n",
    "        unew = u[n] + (dt/6.0)*(k1 + 2*k2 + 2*k3 + k4)\n",
    "        return unew"
   ]
  },
  {
   "cell_type": "code",
   "execution_count": 179,
   "id": "f1de0bc5",
   "metadata": {
    "ExecuteTime": {
     "end_time": "2022-04-22T23:19:53.169211Z",
     "start_time": "2022-04-22T23:19:52.979729Z"
    }
   },
   "outputs": [
    {
     "data": {
      "image/png": "[encoded data removed]",
      "text/plain": [
       "<Figure size 432x288 with 1 Axes>"
      ]
     },
     "metadata": {
      "needs_background": "light"
     },
     "output_type": "display_data"
    }
   ],
   "source": [
    "import numpy as np\n",
    "import matplotlib.pyplot as plt\n",
    "\n",
    "\n",
    "beta = 1.0\n",
    "gamma = 1/7.0\n",
    "\n",
    "def SIR_model(u,t):    \n",
    "    S, I, R = u[0], u[1], u[2]\n",
    "    N = S + I + R\n",
    "    dS = -beta * S * I/N\n",
    "    dI = beta * S * I/N - gamma * I\n",
    "    dR = gamma * I\n",
    "    return [dS,dI,dR]\n",
    "\n",
    "S0 = 1000\n",
    "I0 = 1\n",
    "R0 = 0\n",
    "\n",
    "solver= RungeKutta4(SIR_model)\n",
    "\n",
    "solver.set_initial_condition([S0,I0,R0])\n",
    "\n",
    "time_points = np.linspace(0, 100, 101)\n",
    "\n",
    "u, t = solver.solve(time_points)\n",
    "S = u[:,0]; I = u[:,1]; R = u[:,2]\n",
    "\n",
    "plt.plot(t, S, 'b', alpha=0.5, lw=2, label='Susceptible')\n",
    "plt.plot(t, I, 'r', alpha=0.5, lw=2, label='Infected')\n",
    "plt.plot(t, R, 'g', alpha=0.5, lw=2, label='Recovered with immunity')\n",
    "plt.xlabel('Time /days')\n",
    "plt.ylabel('Number')\n",
    "plt.legend()\n",
    "plt.show()"
   ]
  },
  {
   "cell_type": "markdown",
   "id": "4b835a58",
   "metadata": {},
   "source": [
    "## Import Some Libraries"
   ]
  },
  {
   "cell_type": "code",
   "execution_count": 180,
   "id": "3dc2f08b",
   "metadata": {
    "ExecuteTime": {
     "end_time": "2022-04-22T23:19:54.718527Z",
     "start_time": "2022-04-22T23:19:54.527681Z"
    }
   },
   "outputs": [
    {
     "data": {
      "image/png": "[encoded data removed]",
      "text/plain": [
       "<Figure size 432x288 with 1 Axes>"
      ]
     },
     "metadata": {},
     "output_type": "display_data"
    }
   ],
   "source": [
    "import numpy as np\n",
    "from scipy.integrate import odeint\n",
    "import matplotlib.pyplot as plt\n",
    "\n",
    "# Total population, N.\n",
    "N = 1000\n",
    "\n",
    "# Initial number of infected and recovered individuals, I0 and R0.\n",
    "I0, R0 = 1, 0\n",
    "\n",
    "# Everyone else, S0, is susceptible to infection initially.\n",
    "S0 = N - I0 - R0\n",
    "\n",
    "# Contact rate, beta, and mean recovery rate, gamma, (in 1/days).\n",
    "beta, gamma = 1, 1./7 \n",
    "\n",
    "# A grid of time points (in days)\n",
    "t = np.linspace(0, 160, 160)\n",
    "\n",
    "# The SIR model differential equations.\n",
    "def deriv(y, t, N, beta, gamma):\n",
    "    S, I, R = y\n",
    "    dSdt = -beta * S * I / N\n",
    "    dIdt = beta * S * I / N - gamma * I\n",
    "    dRdt = gamma * I\n",
    "    return dSdt, dIdt, dRdt\n",
    "\n",
    "# Initial conditions vector\n",
    "y0 = S0, I0, R0\n",
    "\n",
    "# Integrate the SIR equations over the time grid, t.\n",
    "ret = odeint(deriv, y0, t, args=(N, beta, gamma))\n",
    "\n",
    "S, I, R = ret.T\n",
    "\n",
    "# Plot the data on three separate curves for S(t), I(t) and R(t)\n",
    "fig = plt.figure(facecolor='w')\n",
    "plt.plot(t, S, 'b', alpha=0.5, lw=2, label='Susceptible')\n",
    "plt.plot(t, I, 'r', alpha=0.5, lw=2, label='Infected')\n",
    "plt.plot(t, R, 'g', alpha=0.5, lw=2, label='Recovered with immunity')\n",
    "plt.legend()\n",
    "plt.xlabel('Time /days')\n",
    "plt.ylabel('Number')\n",
    "plt.show()"
   ]
  },
  {
   "cell_type": "markdown",
   "id": "90964080",
   "metadata": {
    "ExecuteTime": {
     "end_time": "2022-04-22T23:23:07.842426Z",
     "start_time": "2022-04-22T23:23:07.835681Z"
    }
   },
   "source": [
    "<div class=\"alert alert-block alert-info\">\n",
    "<b>Assignment</b>\n",
    "    \n",
    "Choose a system that you want to model using Coupled Ordinary Differential Equations. It may or may not be already discussed in class. \n",
    "\n",
    "1. Define all parameters/variables you used.\n",
    "2. Using preferred parameter values, compare results for Euler, RK4 and an any ODE solver library.\n",
    "3. Explore varying the different parameters.\n",
    "4. Write your key takeaways.\n",
    "</div>"
   ]
  },
  {
   "cell_type": "markdown",
   "id": "ffb5b3de",
   "metadata": {},
   "source": [
    "# References\n",
    "1. https://sundnes.github.io/solving_odes_in_python/ode_book.pdf\n",
    "2. https://scipython.com/book/chapter-8-scipy/additional-examples/the-sir-epidemic-model/"
   ]
  },
  {
   "cell_type": "code",
   "execution_count": null,
   "id": "9aaecdb8",
   "metadata": {},
   "outputs": [],
   "source": []
  }
 ],
 "metadata": {
  "kernelspec": {
   "display_name": "Python 3 (ipykernel)",
   "language": "python",
   "name": "python3"
  },
  "language_info": {
   "codemirror_mode": {
    "name": "ipython",
    "version": 3
   },
   "file_extension": ".py",
   "mimetype": "text/x-python",
   "name": "python",
   "nbconvert_exporter": "python",
   "pygments_lexer": "ipython3",
   "version": "3.9.7"
  },
  "toc": {
   "base_numbering": 1,
   "nav_menu": {},
   "number_sections": true,
   "sideBar": true,
   "skip_h1_title": false,
   "title_cell": "Table of Contents",
   "title_sidebar": "Contents",
   "toc_cell": true,
   "toc_position": {},
   "toc_section_display": true,
   "toc_window_display": true
  }
 },
 "nbformat": 4,
 "nbformat_minor": 5
}
