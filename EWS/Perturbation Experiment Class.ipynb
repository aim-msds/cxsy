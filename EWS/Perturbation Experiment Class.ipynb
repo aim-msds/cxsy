{
 "cells": [
  {
   "cell_type": "markdown",
   "id": "4d4d6e5d",
   "metadata": {
    "toc": true
   },
   "source": [
    "<h1>Table of Contents<span class=\"tocSkip\"></span></h1>\n",
    "<div class=\"toc\"><ul class=\"toc-item\"><li><span><a href=\"#Early-warning-signals,-analyzed-with-Python\" data-toc-modified-id=\"Early-warning-signals,-analyzed-with-Python-1\"><span class=\"toc-item-num\">1&nbsp;&nbsp;</span>Early warning signals, analyzed with Python</a></span></li><li><span><a href=\"#Critical-slowing-down\" data-toc-modified-id=\"Critical-slowing-down-2\"><span class=\"toc-item-num\">2&nbsp;&nbsp;</span>Critical slowing down</a></span></li><li><span><a href=\"#Flickering\" data-toc-modified-id=\"Flickering-3\"><span class=\"toc-item-num\">3&nbsp;&nbsp;</span>Flickering</a></span></li><li><span><a href=\"#Increasing-variance\" data-toc-modified-id=\"Increasing-variance-4\"><span class=\"toc-item-num\">4&nbsp;&nbsp;</span>Increasing variance</a></span></li><li><span><a href=\"#Increasing-Autocorrelation\" data-toc-modified-id=\"Increasing-Autocorrelation-5\"><span class=\"toc-item-num\">5&nbsp;&nbsp;</span>Increasing Autocorrelation</a></span></li><li><span><a href=\"#Skewness-and-Kurtosis\" data-toc-modified-id=\"Skewness-and-Kurtosis-6\"><span class=\"toc-item-num\">6&nbsp;&nbsp;</span>Skewness and Kurtosis</a></span></li><li><span><a href=\"#Reference\" data-toc-modified-id=\"Reference-7\"><span class=\"toc-item-num\">7&nbsp;&nbsp;</span>Reference</a></span></li></ul></div>"
   ]
  },
  {
   "cell_type": "markdown",
   "id": "70c07770",
   "metadata": {},
   "source": [
    "# Early warning signals, analyzed with Python\n",
    "\n",
    "As described, interpreted and analyzed in the chapter on Analyzing critical transitions with Python, Scheffer et al. (2001) suggest the following model as a \"minimal model of an ecosystem showing hysteresis\"\n",
    "\n",
    "$ \\frac{dx}{dt}=a−bx+rf(x) $ with the Hill-function  $f(x)=\\frac{x^p}{x^p+h^p}$\n",
    "\n",
    "They use this model to demonstrate a methodology they call Early Warning Signals for detecting critical transitions.\n",
    "\n",
    "The potential of dynamical systems to shift abruptly from one equilibrium to another triggers huge interest for attempts to prevent system collapses such as market crashes, aprupt climate changes or catastrophic shifts in fish or wildlife populations (Scheffer et al. 2009). The biggest challenge is to predict the “tipping points” where these sudden changes may happen (Scheffer et al. 2009). Several indicators have been pinpointed: critical slowing down, the so called flickering, an increasing autocorrelation, increasing variance and increasing skewness.\n",
    "\n",
    "* Scheffer, M. / Carpenter, S. / Foley, J.A. / Folke, C. / Walker, B. (2001). Catastrophic shifts in ecosystems. Nature 413, p. 591-596.\n",
    "* Scheffer, M. / et al., Early-warning signals for critical transitions, Nature 461, p. 53 - 59.\n",
    "\n",
    "To start with, the following Python code generates a plot which shows that this model too has alternative stable states, depending on the parameter  r  (for the nutrient recycling rate). Other than in the analyzing chapter, we add a small amount of noise to the development to let the behavior become a bit more realistic. The amplitude of this noise is determined by a parameter  σ .\n",
    "\n",
    "Furthermore, in order to demonstrate different possibilities, the system here is simulated as a differential equation with the numerical integration method odeint of the Python-modul scipy"
   ]
  },
  {
   "cell_type": "code",
   "execution_count": null,
   "id": "cba99851",
   "metadata": {
    "ExecuteTime": {
     "end_time": "2022-05-19T19:12:39.863195Z",
     "start_time": "2022-05-19T19:12:39.640778Z"
    }
   },
   "outputs": [],
   "source": []
  },
  {
   "cell_type": "markdown",
   "id": "8ac3e1f8",
   "metadata": {},
   "source": [
    "# Critical slowing down\n",
    "\n",
    "The most prominent indicator in the conception of EWS is critical slowing down suggesting that a decreasing rate of recovery from small perturbations predicts the approachment of a tipping point (i.e. a critical transition). The next piece of Python-code generates a plot showing the above development with a small perturbation applied after reaching equilibrium (at  time  = 500). Testing different  r -values, the plot shows that recovery time increases with decreasing distance to the tipping point. In this case, in order to be able to intervene, the system is modeled in the form of a difference equation."
   ]
  },
  {
   "cell_type": "code",
   "execution_count": null,
   "id": "6c4f1fa0",
   "metadata": {
    "ExecuteTime": {
     "end_time": "2022-05-19T19:16:51.853428Z",
     "start_time": "2022-05-19T19:16:51.541925Z"
    }
   },
   "outputs": [],
   "source": []
  },
  {
   "cell_type": "markdown",
   "id": "b2a55321",
   "metadata": {},
   "source": [
    "# Flickering\n",
    "\n",
    "Another noticable Early Warning Signal is a system's back and forth oscillation between two stable states close to a critical transition. This oscillation has been called flickering and was observed among others on the model of lake eutrophication (Wang et al. 2012). In the following calculation we increase  r  slowly and plot the system at  time  = 800. in order to show that flickering is noise-induced, we add a second curve (red) to the plot showing the same dynamics without added noise.\n",
    "\n",
    "* Wang R. et al. (2012). Flickering gives early warning signals of a critical transition to a eutrophic lake state. Nature 492/2012, p 419 - 22"
   ]
  },
  {
   "cell_type": "code",
   "execution_count": null,
   "id": "cd579651",
   "metadata": {
    "ExecuteTime": {
     "end_time": "2022-05-19T21:54:20.364687Z",
     "start_time": "2022-05-19T21:54:18.051820Z"
    }
   },
   "outputs": [],
   "source": []
  },
  {
   "cell_type": "markdown",
   "id": "b571c529",
   "metadata": {},
   "source": [
    "# Increasing variance\n",
    "\n",
    "As yet other Early Warning Signals increasing variance (respectively standard deviation) and increasing autocorrelation in noise-induced oscillations have been reported. The following piece of code generates a plot that shows how standard deviation increases when  "
   ]
  },
  {
   "cell_type": "code",
   "execution_count": null,
   "id": "9475f16b",
   "metadata": {
    "ExecuteTime": {
     "end_time": "2022-05-19T22:01:13.009589Z",
     "start_time": "2022-05-19T22:01:11.715685Z"
    }
   },
   "outputs": [],
   "source": []
  },
  {
   "cell_type": "markdown",
   "id": "37e339b2",
   "metadata": {},
   "source": [
    "# Increasing Autocorrelation\n",
    "\n",
    "Autocorrelation is a cross-correlation of data with itself at different points in time. It measures the similarity between observations as a function of the time lag between them. The following two pieces of code consider a time-lag of 1, indicating an increasing self-similarity of system states when approaching the tipping point. While the first piece just shows autocorrelation-values in relation to  r , the second piece visualizes the autocorrelation of data points in respect to four distinct values of  r . The plots position data points on the  x -axes in respect to their values at  t+1  on the  y -axes."
   ]
  },
  {
   "cell_type": "code",
   "execution_count": null,
   "id": "7f2126cd",
   "metadata": {},
   "outputs": [],
   "source": []
  },
  {
   "cell_type": "markdown",
   "id": "d08e8c22",
   "metadata": {},
   "source": [
    "# Skewness and Kurtosis\n",
    "\n",
    "Two more phenomena, observed when approaching a critical transition and thus suggested as Early Warning signals, are changes in the skewness and kurtosis of the distribution of noisy system states. \n",
    "\n",
    "While skewness indicates asymmetry in the distribution - with a negative skew indicating a right-sided concentration (a longer tail on the left side) and a positive skew indicating the opposite - , kurtosis is a measure of whether the data are heavy-tailed or light-tailed relative to a normal distribution. That is, data sets with high kurtosis tend to have heavy tails, or outliers. Data sets with low kurtosis tend to have light tails, or lack of outliers. A uniform distribution would be the extreme case.\n",
    "\n",
    "The following code generates plots showing the devolpment of skewness and kurtosis when  r  reaches the tipping point and two histograms showing distributions of system states at different values of  r ."
   ]
  },
  {
   "cell_type": "code",
   "execution_count": null,
   "id": "c96cd635",
   "metadata": {
    "ExecuteTime": {
     "end_time": "2022-05-19T22:04:08.478901Z",
     "start_time": "2022-05-19T22:04:07.434227Z"
    }
   },
   "outputs": [],
   "source": []
  },
  {
   "cell_type": "markdown",
   "id": "6cea1148",
   "metadata": {},
   "source": [
    "# Reference\n",
    "\n",
    "http://systems-sciences.uni-graz.at/etextbook/sw2/ews.html"
   ]
  },
  {
   "cell_type": "code",
   "execution_count": null,
   "id": "1b1059b0",
   "metadata": {},
   "outputs": [],
   "source": []
  }
 ],
 "metadata": {
  "kernelspec": {
   "display_name": "Python [conda env:root] *",
   "language": "python",
   "name": "conda-root-py"
  },
  "language_info": {
   "codemirror_mode": {
    "name": "ipython",
    "version": 3
   },
   "file_extension": ".py",
   "mimetype": "text/x-python",
   "name": "python",
   "nbconvert_exporter": "python",
   "pygments_lexer": "ipython3",
   "version": "3.9.7"
  },
  "toc": {
   "base_numbering": 1,
   "nav_menu": {},
   "number_sections": true,
   "sideBar": true,
   "skip_h1_title": false,
   "title_cell": "Table of Contents",
   "title_sidebar": "Contents",
   "toc_cell": true,
   "toc_position": {},
   "toc_section_display": true,
   "toc_window_display": true
  }
 },
 "nbformat": 4,
 "nbformat_minor": 5
}
